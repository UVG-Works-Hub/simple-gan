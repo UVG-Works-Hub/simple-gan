{
 "cells": [
  {
   "cell_type": "markdown",
   "metadata": {},
   "source": [
    "# Laboratorio 6\n",
    "### Deep learning\n",
    "- Daniel Gomez 21429\n",
    "- Samuel Chamale 21881\n",
    "- Adrian Rodriguez 21691"
   ]
  },
  {
   "cell_type": "code",
   "execution_count": 18,
   "metadata": {
    "id": "clpls1FESBFo"
   },
   "outputs": [],
   "source": [
    "import tensorflow as tf\n",
    "import glob\n",
    "import imageio\n",
    "import matplotlib.pyplot as plt\n",
    "import numpy as np\n",
    "import os\n",
    "import PIL\n",
    "from tensorflow.keras import layers\n",
    "import time\n",
    "from IPython import display\n",
    "import pickle"
   ]
  },
  {
   "cell_type": "markdown",
   "metadata": {
    "id": "AQxV4Am9nYxa"
   },
   "source": [
    "Datos de entrenamiento\n",
    "\n",
    "1. `(train_images, train_labels), (_, _) = tf.keras.datasets.mnist.load_data()`: Carga el conjunto de datos MNIST, dividiéndolo en imágenes y etiquetas de entrenamiento. El segundo conjunto (de prueba) no se utiliza, por eso se ignora con `_`.\n",
    "\n",
    "2. `train_images = train_images.reshape(train_images.shape[0], 28, 28, 1).astype('float32')`: Redimensiona las imágenes de entrenamiento para que tengan un formato de 28x28 píxeles con 1 canal (escala de grises) y convierte los valores a tipo `float32`.\n",
    "\n",
    "3. `train_images = (train_images - 127.5) / 127.5`: Normaliza los valores de los píxeles, que originalmente están entre 0 y 255, para que queden en el rango [-1, 1]. Esto es importante para mejorar el rendimiento de las redes neuronales, especialmente cuando se usan activaciones como `tanh`, que esperan entradas en este rango."
   ]
  },
  {
   "cell_type": "code",
   "execution_count": 19,
   "metadata": {
    "id": "0ge-9IM9SFkW"
   },
   "outputs": [],
   "source": [
    "(train_images, train_labels), (_, _) = tf.keras.datasets.mnist.load_data()\n",
    "train_images = train_images.reshape(train_images.shape[0], 28, 28, 1).astype('float32')\n",
    "train_images = (train_images - 127.5) / 127.5  # Normalize the images to [-1, 1]"
   ]
  },
  {
   "cell_type": "code",
   "execution_count": 20,
   "metadata": {
    "id": "iJWcQPpNSHLA"
   },
   "outputs": [],
   "source": [
    "BUFFER_SIZE = 1000\n",
    "BATCH_SIZE = 128"
   ]
  },
  {
   "cell_type": "markdown",
   "metadata": {
    "id": "hcw8hxtmnJR-"
   },
   "source": [
    "Este código crea un conjunto de datos (`train_dataset`) a partir de las imágenes de entrenamiento (`train_images`). Utiliza la función `from_tensor_slices` para convertir el array de imágenes en un formato compatible con TensorFlow, y luego aplica dos operaciones:\n",
    "\n",
    "1. `shuffle(BUFFER_SIZE)`: Desordena aleatoriamente las imágenes utilizando un tamaño de buffer especificado por `BUFFER_SIZE`, lo que ayuda a mezclar los datos antes del entrenamiento.\n",
    "2. `batch(BATCH_SIZE)`: Agrupa las imágenes en lotes del tamaño `BATCH_SIZE`, lo que permite que el modelo entrene en pequeños subconjuntos de datos en cada iteración.\n",
    "\n",
    "Esto organiza las imágenes de entrenamiento para ser usadas de manera eficiente en el proceso de entrenamiento del modelo."
   ]
  },
  {
   "cell_type": "code",
   "execution_count": 21,
   "metadata": {
    "id": "77oc7EKASIXA"
   },
   "outputs": [],
   "source": [
    "# Batch and shuffle the data\n",
    "train_dataset = tf.data.Dataset.from_tensor_slices(train_images).shuffle(BUFFER_SIZE).batch(BATCH_SIZE)"
   ]
  },
  {
   "cell_type": "markdown",
   "metadata": {
    "id": "D8oehruJmdLn"
   },
   "source": [
    "El generador toma un vector de 100 números aleatorios como entrada y lo transforma en una imagen de 28x28 píxeles. Usa capas densas, BatchNormalizatio), activación LeakyReLU, y varias capas Conv2DTranspose para aumentar el tamaño de la imagen gradualmente hasta obtener la salida final, que tiene una única capa de profundidad y usa la activación tanh para generar la imagen final."
   ]
  },
  {
   "cell_type": "code",
   "execution_count": 22,
   "metadata": {
    "id": "ffdqytupSJ_2"
   },
   "outputs": [],
   "source": [
    "def make_generator_model():\n",
    "    model = tf.keras.Sequential()\n",
    "    model.add(layers.Dense(7*7*64, use_bias=False, input_shape=(100,)))\n",
    "    model.add(layers.BatchNormalization())\n",
    "    model.add(layers.LeakyReLU())\n",
    "\n",
    "    model.add(layers.Reshape((7, 7, 64)))\n",
    "\n",
    "    model.add(layers.Conv2DTranspose(32, (3, 3), strides=(2, 2), padding='same', use_bias=False))\n",
    "    model.add(layers.BatchNormalization())\n",
    "    model.add(layers.LeakyReLU())\n",
    "\n",
    "    model.add(layers.Conv2DTranspose(1, (3, 3), strides=(2, 2), padding='same', use_bias=False, activation='tanh'))\n",
    "\n",
    "    return model"
   ]
  },
  {
   "cell_type": "code",
   "execution_count": 23,
   "metadata": {
    "colab": {
     "base_uri": "https://localhost:8080/",
     "height": 505
    },
    "id": "MJohYW14SMGU",
    "outputId": "468d1ea4-a5d5-4edc-8d1e-382397a1d680"
   },
   "outputs": [
    {
     "data": {
      "text/plain": [
       "<matplotlib.image.AxesImage at 0x15076d250>"
      ]
     },
     "execution_count": 23,
     "metadata": {},
     "output_type": "execute_result"
    },
    {
     "data": {
      "image/png": "[encoded data removed]",
      "text/plain": [
       "<Figure size 640x480 with 1 Axes>"
      ]
     },
     "metadata": {},
     "output_type": "display_data"
    }
   ],
   "source": [
    "generator = make_generator_model()\n",
    "noise = tf.random.normal([1, 100])\n",
    "generated_image = generator(noise, training=False)\n",
    "plt.imshow(generated_image[0, :, :, 0], cmap='gray')"
   ]
  },
  {
   "cell_type": "markdown",
   "metadata": {
    "id": "pzzf-Q7kmz4s"
   },
   "source": [
    "El discriminador toma una imagen de 28x28 píxeles como entrada y la procesa a través de capas convolucionales. Utiliza capas de `Dropout` para prevenir el sobreajuste y reduce la dimensionalidad de la imagen con una capa `Flatten`. Finalmente, una capa densa con una única salida determina si la imagen es real o generada por el modelo, proporcionando una probabilidad."
   ]
  },
  {
   "cell_type": "code",
   "execution_count": 24,
   "metadata": {
    "id": "fGO78hK1SPe-"
   },
   "outputs": [],
   "source": [
    "def make_discriminator_model():\n",
    "    model = tf.keras.Sequential()\n",
    "    model.add(layers.Conv2D(32, (3, 3), strides=(2, 2), padding='same', input_shape=[28, 28, 1]))\n",
    "    model.add(layers.LeakyReLU())\n",
    "    model.add(layers.Dropout(0.3))\n",
    "\n",
    "    model.add(layers.Conv2D(64, (3, 3), strides=(2, 2), padding='same'))\n",
    "    model.add(layers.LeakyReLU())\n",
    "    model.add(layers.Dropout(0.3))\n",
    "\n",
    "    model.add(layers.Flatten())\n",
    "    model.add(layers.Dense(1))\n",
    "\n",
    "    return model"
   ]
  },
  {
   "cell_type": "code",
   "execution_count": 25,
   "metadata": {
    "id": "ABj-fZWhSRkP"
   },
   "outputs": [
    {
     "name": "stdout",
     "output_type": "stream",
     "text": [
      "tf.Tensor([[-0.01711228]], shape=(1, 1), dtype=float32)\n"
     ]
    }
   ],
   "source": [
    "discriminator = make_discriminator_model()\n",
    "decision = discriminator(generated_image)\n",
    "print (decision)"
   ]
  },
  {
   "cell_type": "code",
   "execution_count": 26,
   "metadata": {
    "id": "LmD7JhNLST7o"
   },
   "outputs": [],
   "source": [
    "# This method returns a helper function to compute cross entropy loss\n",
    "cross_entropy = tf.keras.losses.BinaryCrossentropy(from_logits=True)\n",
    "\n",
    "generator_optimizer = tf.keras.optimizers.Adam(1e-4)\n",
    "discriminator_optimizer = tf.keras.optimizers.Adam(1e-4)"
   ]
  },
  {
   "cell_type": "markdown",
   "metadata": {
    "id": "S4K1k4OrnzPe"
   },
   "source": [
    "1. `real_loss`: Calcula la pérdida del discriminador al clasificar imágenes reales. Compara las salidas del discriminador (`real_output`) con un conjunto de etiquetas de unos (porque las imágenes reales deberían clasificarse como \"reales\"). Se utiliza la función de pérdida de entropía cruzada (`cross_entropy`) para esta comparación.\n",
    "\n",
    "2. `fake_loss`: Calcula la pérdida del discriminador al clasificar imágenes generadas (falsas). Compara las salidas del discriminador (`fake_output`) con etiquetas de ceros (porque las imágenes generadas deberían clasificarse como \"falsas\").\n",
    "\n",
    "3. `total_loss`: Suma las pérdidas de las imágenes reales y generadas para obtener la pérdida total del discriminador.\n",
    "\n",
    "El objetivo es minimizar esta pérdida, de modo que el discriminador mejore en clasificar imágenes reales como reales y falsas como falsas."
   ]
  },
  {
   "cell_type": "code",
   "execution_count": 27,
   "metadata": {
    "id": "E8y0mQPKSZ_1"
   },
   "outputs": [],
   "source": [
    "def discriminator_loss(real_output, fake_output):\n",
    "    real_loss = cross_entropy(tf.ones_like(real_output), real_output)\n",
    "    fake_loss = cross_entropy(tf.zeros_like(fake_output), fake_output)\n",
    "    total_loss = real_loss + fake_loss\n",
    "    return total_loss"
   ]
  },
  {
   "cell_type": "markdown",
   "metadata": {
    "id": "CfyufbKioFqp"
   },
   "source": [
    "Esta función define la pérdida del generador. El objetivo del generador es crear imágenes falsas que engañen al discriminador haciéndole creer que son reales.\n",
    "\n",
    "1. `fake_output`: Es la salida del discriminador al clasificar las imágenes generadas por el generador.\n",
    "\n",
    "2. `cross_entropy(tf.ones_like(fake_output), fake_output)`: Calcula la pérdida del generador comparando las salidas del discriminador (`fake_output`) con un conjunto de etiquetas de unos (porque el generador quiere que el discriminador clasifique las imágenes falsas como \"reales\"). Se utiliza la función de entropía cruzada para medir qué tan bien está logrando esto.\n",
    "\n",
    "El generador trata de minimizar esta pérdida, de modo que el discriminador no pueda diferenciar entre las imágenes reales y las generadas."
   ]
  },
  {
   "cell_type": "code",
   "execution_count": 28,
   "metadata": {
    "id": "u1XHWfcgSbXk"
   },
   "outputs": [],
   "source": [
    "def generator_loss(fake_output):\n",
    "    return cross_entropy(tf.ones_like(fake_output), fake_output)"
   ]
  },
  {
   "cell_type": "code",
   "execution_count": 29,
   "metadata": {
    "id": "euHXPFL9SdyL"
   },
   "outputs": [],
   "source": [
    "EPOCHS = 10\n",
    "noise_dim = 100\n",
    "num_examples_to_generate = 8\n",
    "\n",
    "# You will reuse this seed overtime (so it's easier)\n",
    "# to visualize progress in the animated GIF)\n",
    "seed = tf.random.normal([num_examples_to_generate, noise_dim])"
   ]
  },
  {
   "cell_type": "markdown",
   "metadata": {
    "id": "c-tef-ZZoeCl"
   },
   "source": [
    "La anotación `@tf.function` optimiza la función compilándola para que sea más rápida.\n",
    "\n",
    "1. **Generación de ruido**: Se crea un vector de ruido aleatorio con dimensiones `[BATCH_SIZE, noise_dim]` para alimentar al generador.\n",
    "\n",
    "2. **GradientTape**: `\n",
    "   - Se utilizan dos tf.GradientTape`, uno para el generador (`gen_tape`) y otro para el discriminador (`disc_tape`). Esto permite calcular los gradientes para ambos modelos.\n",
    "   \n",
    "3. **Generación de imágenes**: El generador usa el ruido para generar imágenes falsas (`generated_images`).\n",
    "\n",
    "4. **Evaluación del discriminador**:\n",
    "   - `real_output`: El discriminador procesa las imágenes reales y devuelve una clasificación.\n",
    "   - `fake_output`: El discriminador evalúa las imágenes generadas y también devuelve una clasificación.\n",
    "\n",
    "5. **Cálculo de pérdidas**:\n",
    "   - `gen_loss`: Pérdida del generador, basada en qué tan bien las imágenes generadas engañan al discriminador.\n",
    "   - `disc_loss`: Pérdida del discriminador, basada en su capacidad para diferenciar entre imágenes reales y generadas.\n",
    "\n",
    "6. **Cálculo de gradientes**:\n",
    "   - Se calculan los gradientes de la pérdida con respecto a los pesos entrenables del generador y el discriminador.\n",
    "\n",
    "7. **Actualización de los modelos**:\n",
    "   - `generator_optimizer.apply_gradients`: Aplica los gradientes calculados para actualizar los pesos del generador.\n",
    "   - `discriminator_optimizer.apply_gradients`: Hace lo mismo para el discriminador.\n",
    "\n",
    "En resumen, este bloque realiza un paso completo de entrenamiento, ajustando tanto el generador como el discriminador para que ambos mejoren en sus respectivos objetivos (engañar o no ser engañado)."
   ]
  },
  {
   "cell_type": "code",
   "execution_count": 30,
   "metadata": {
    "id": "OkEsWa2FSfNi"
   },
   "outputs": [],
   "source": [
    "# Notice the use of `tf.function`\n",
    "# This annotation causes the function to be \"compiled\".\n",
    "@tf.function\n",
    "def train_step(images):\n",
    "    noise = tf.random.normal([BATCH_SIZE, noise_dim])\n",
    "\n",
    "    with tf.GradientTape() as gen_tape, tf.GradientTape() as disc_tape:\n",
    "      generated_images = generator(noise, training=True)\n",
    "\n",
    "      real_output = discriminator(images, training=True)\n",
    "      fake_output = discriminator(generated_images, training=True)\n",
    "\n",
    "      gen_loss = generator_loss(fake_output)\n",
    "      disc_loss = discriminator_loss(real_output, fake_output)\n",
    "\n",
    "    gradients_of_generator = gen_tape.gradient(gen_loss, generator.trainable_variables)\n",
    "    gradients_of_discriminator = disc_tape.gradient(disc_loss, discriminator.trainable_variables)\n",
    "\n",
    "    generator_optimizer.apply_gradients(zip(gradients_of_generator, generator.trainable_variables))\n",
    "    discriminator_optimizer.apply_gradients(zip(gradients_of_discriminator, discriminator.trainable_variables))"
   ]
  },
  {
   "cell_type": "code",
   "execution_count": 31,
   "metadata": {
    "id": "2A97SYzaSg7B"
   },
   "outputs": [],
   "source": [
    "def generate_and_save_images(model, epoch, test_input):\n",
    "  # Notice `training` is set to False.\n",
    "  # This is so all layers run in inference mode (batchnorm).\n",
    "  predictions = model(test_input, training=False)\n",
    "\n",
    "  fig = plt.figure(figsize=(4, 4))\n",
    "\n",
    "  for i in range(predictions.shape[0]):\n",
    "      plt.subplot(4, 4, i+1)\n",
    "      plt.imshow(predictions[i, :, :, 0] * 127.5 + 127.5, cmap='gray')\n",
    "      plt.axis('off')\n",
    "\n",
    "  # plt.savefig('image_at_epoch_{:04d}.png'.format(epoch))\n",
    "  plt.show()"
   ]
  },
  {
   "cell_type": "markdown",
   "metadata": {
    "id": "lhrwIJ_opDYO"
   },
   "source": [
    "\n",
    "1. **Inicio del bucle de épocas**:\n",
    "   - El entrenamiento se repite por la cantidad de épocas definida en el argumento `epochs`.\n",
    "   - Al inicio de cada época, se registra el tiempo con `start = time.time()` para medir cuánto tarda cada una.\n",
    "\n",
    "2. **Entrenamiento por lotes**:\n",
    "   - Dentro de cada época, se itera sobre cada lote de imágenes del conjunto de datos (`dataset`), llamando a la función `train_step(image_batch)` para entrenar el generador y discriminador en ese lote.\n",
    "\n",
    "3. **Generación de imágenes**:\n",
    "   - Se genera y guarda una imagen utilizando la función `generate_and_save_images(generator, epoch + 1, seed)`, donde el generador crea nuevas imágenes a partir de una semilla (`seed`), permitiendo un seguimiento visual del progreso de la GAN.\n",
    "\n",
    "4. **Medición del tiempo**:\n",
    "   - Se calcula y muestra el tiempo que tomó completar cada época con `print ('Time for epoch {} is {} sec'.format(epoch + 1, time.time()-start))`.\n",
    "\n",
    "5. **Generación final**:\n",
    "   - Después de la última época, se genera una imagen final con el mismo método de visualización.\n",
    "\n",
    "En resumen, esta función coordina el entrenamiento de la GAN durante múltiples épocas, mide el tiempo por cada una y genera imágenes en cada iteración para ver cómo mejora la calidad de las imágenes generadas."
   ]
  },
  {
   "cell_type": "markdown",
   "metadata": {},
   "source": [
    "Guardar modelo en pickle para evitar generarlo desde 0"
   ]
  },
  {
   "cell_type": "code",
   "execution_count": 32,
   "metadata": {},
   "outputs": [],
   "source": [
    "# Function to save models\n",
    "def save_models(generator, discriminator, filename='gan_models.pickle'):\n",
    "    with open(filename, 'wb') as f:\n",
    "        pickle.dump((generator.get_weights(), discriminator.get_weights()), f)\n",
    "\n",
    "# Function to load models\n",
    "def load_models(filename='gan_models.pickle'):\n",
    "    if os.path.exists(filename):\n",
    "        with open(filename, 'rb') as f:\n",
    "            gen_weights, disc_weights = pickle.load(f)\n",
    "        \n",
    "        generator = make_generator_model()\n",
    "        discriminator = make_discriminator_model()\n",
    "        \n",
    "        generator.set_weights(gen_weights)\n",
    "        discriminator.set_weights(disc_weights)\n",
    "        \n",
    "        return generator, discriminator\n",
    "    return None, None"
   ]
  },
  {
   "cell_type": "code",
   "execution_count": 33,
   "metadata": {
    "id": "X0e6OQrhSjl5"
   },
   "outputs": [],
   "source": [
    "def train(dataset, epochs):\n",
    "    generator, discriminator = load_models()\n",
    "    \n",
    "    if generator is None or discriminator is None:\n",
    "        print(\"No saved models found. Training from scratch.\")\n",
    "        generator = make_generator_model()\n",
    "        discriminator = make_discriminator_model()\n",
    "        \n",
    "        for epoch in range(epochs):\n",
    "            start = time.time()\n",
    "\n",
    "            for image_batch in dataset:\n",
    "                train_step(image_batch)\n",
    "\n",
    "            print(f'Time for epoch {epoch + 1} is {time.time() - start} sec')\n",
    "\n",
    "        # Save the models after training\n",
    "        save_models(generator, discriminator)\n",
    "    else:\n",
    "        print(\"Loaded pre-trained models.\")\n",
    "\n",
    "    return generator, discriminator"
   ]
  },
  {
   "cell_type": "code",
   "execution_count": 34,
   "metadata": {
    "colab": {
     "base_uri": "https://localhost:8080/",
     "height": 202
    },
    "id": "a4TIZzd7SlXI",
    "outputId": "607a8537-038e-4829-d5fc-f5e9348c7729"
   },
   "outputs": [
    {
     "name": "stdout",
     "output_type": "stream",
     "text": [
      "No saved models found. Training from scratch.\n",
      "Time for epoch 1 is 8.942246913909912 sec\n",
      "Time for epoch 2 is 7.949536085128784 sec\n",
      "Time for epoch 3 is 7.877950191497803 sec\n",
      "Time for epoch 4 is 7.87118673324585 sec\n",
      "Time for epoch 5 is 7.590961933135986 sec\n"
     ]
    },
    {
     "name": "stderr",
     "output_type": "stream",
     "text": [
      "2024-09-28 00:14:23.587297: I tensorflow/core/framework/local_rendezvous.cc:404] Local rendezvous is aborting with status: OUT_OF_RANGE: End of sequence\n"
     ]
    },
    {
     "name": "stdout",
     "output_type": "stream",
     "text": [
      "Time for epoch 6 is 7.79961895942688 sec\n",
      "Time for epoch 7 is 7.764219284057617 sec\n",
      "Time for epoch 8 is 7.550108194351196 sec\n",
      "Time for epoch 9 is 7.61547589302063 sec\n",
      "Time for epoch 10 is 7.760595321655273 sec\n",
      "Time for epoch 11 is 7.6766510009765625 sec\n",
      "Time for epoch 12 is 7.744585990905762 sec\n",
      "Time for epoch 13 is 7.845700025558472 sec\n",
      "Time for epoch 14 is 7.6882781982421875 sec\n",
      "Time for epoch 15 is 7.758831977844238 sec\n",
      "Time for epoch 16 is 7.80100679397583 sec\n",
      "Time for epoch 17 is 7.807690858840942 sec\n",
      "Time for epoch 18 is 7.821901082992554 sec\n",
      "Time for epoch 19 is 7.86004900932312 sec\n",
      "Time for epoch 20 is 7.841271877288818 sec\n",
      "Time for epoch 21 is 7.769537925720215 sec\n"
     ]
    },
    {
     "name": "stderr",
     "output_type": "stream",
     "text": [
      "2024-09-28 00:16:27.764014: I tensorflow/core/framework/local_rendezvous.cc:404] Local rendezvous is aborting with status: OUT_OF_RANGE: End of sequence\n"
     ]
    },
    {
     "name": "stdout",
     "output_type": "stream",
     "text": [
      "Time for epoch 22 is 7.870103120803833 sec\n",
      "Time for epoch 23 is 7.801549911499023 sec\n",
      "Time for epoch 24 is 7.802904844284058 sec\n",
      "Time for epoch 25 is 7.810208082199097 sec\n",
      "Time for epoch 26 is 7.868797302246094 sec\n",
      "Time for epoch 27 is 7.8158018589019775 sec\n",
      "Time for epoch 28 is 7.821940898895264 sec\n",
      "Time for epoch 29 is 7.972002983093262 sec\n",
      "Time for epoch 30 is 7.881480932235718 sec\n",
      "Time for epoch 31 is 7.940237998962402 sec\n",
      "Time for epoch 32 is 7.949548006057739 sec\n",
      "Time for epoch 33 is 7.921467065811157 sec\n",
      "Time for epoch 34 is 7.937698125839233 sec\n",
      "Time for epoch 35 is 7.957895040512085 sec\n",
      "Time for epoch 36 is 7.851471900939941 sec\n",
      "Time for epoch 37 is 7.8766868114471436 sec\n",
      "Time for epoch 38 is 7.782449722290039 sec\n",
      "Time for epoch 39 is 8.093356847763062 sec\n",
      "Time for epoch 40 is 8.021322965621948 sec\n",
      "Time for epoch 41 is 8.036663055419922 sec\n",
      "Time for epoch 42 is 7.75915002822876 sec\n",
      "Time for epoch 43 is 7.871958017349243 sec\n",
      "Time for epoch 44 is 7.940787076950073 sec\n",
      "Time for epoch 45 is 8.329031944274902 sec\n",
      "Time for epoch 46 is 8.731348991394043 sec\n",
      "Time for epoch 47 is 7.847253084182739 sec\n",
      "Time for epoch 48 is 7.833235025405884 sec\n",
      "Time for epoch 49 is 8.004571914672852 sec\n",
      "Time for epoch 50 is 7.897706031799316 sec\n"
     ]
    }
   ],
   "source": [
    "# Load and preprocess the MNIST dataset\n",
    "(train_images, _), (_, _) = tf.keras.datasets.mnist.load_data()\n",
    "train_images = train_images.reshape(train_images.shape[0], 28, 28, 1).astype('float32')\n",
    "train_images = (train_images - 127.5) / 127.5\n",
    "\n",
    "BUFFER_SIZE = 60000\n",
    "BATCH_SIZE = 256\n",
    "\n",
    "train_dataset = tf.data.Dataset.from_tensor_slices(train_images).shuffle(BUFFER_SIZE).batch(BATCH_SIZE)\n",
    "\n",
    "EPOCHS = 50\n",
    "noise_dim = 100\n",
    "\n",
    "generator, discriminator = train(train_dataset, EPOCHS)\n",
    "\n",
    "# Generate and save a sample image\n",
    "noise = tf.random.normal([1, noise_dim])\n",
    "generated_image = generator(noise, training=False)\n"
   ]
  },
  {
   "cell_type": "markdown",
   "metadata": {
    "id": "M6Yx4aNZR735"
   },
   "source": []
  }
 ],
 "metadata": {
  "colab": {
   "provenance": []
  },
  "kernelspec": {
   "display_name": "Python 3",
   "name": "python3"
  },
  "language_info": {
   "codemirror_mode": {
    "name": "ipython",
    "version": 3
   },
   "file_extension": ".py",
   "mimetype": "text/x-python",
   "name": "python",
   "nbconvert_exporter": "python",
   "pygments_lexer": "ipython3",
   "version": "3.12.4"
  }
 },
 "nbformat": 4,
 "nbformat_minor": 0
}
